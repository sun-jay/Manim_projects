{
 "cells": [
  {
   "cell_type": "code",
   "execution_count": 1,
   "id": "a5d8d956-d5bf-4b0d-a3a2-e9b4698929b8",
   "metadata": {},
   "outputs": [
    {
     "data": {
      "text/html": [
       "<pre style=\"white-space:pre;overflow-x:auto;line-height:normal;font-family:Menlo,'DejaVu Sans Mono',consolas,'Courier New',monospace\">Manim Community <span style=\"color: #008000; text-decoration-color: #008000\">v0.16.0.post0</span>\n",
       "\n",
       "</pre>\n"
      ],
      "text/plain": [
       "Manim Community \u001b[32mv0.\u001b[0m\u001b[32m16.0\u001b[0m\u001b[32m.post0\u001b[0m\n",
       "\n"
      ]
     },
     "metadata": {},
     "output_type": "display_data"
    }
   ],
   "source": [
    "from manim import*\n",
    "from manim.utils.color import Colors\n",
    "import math\n"
   ]
  },
  {
   "cell_type": "code",
   "execution_count": 16,
   "id": "8c8ccd94-a844-43e4-bc6b-b94cffe79986",
   "metadata": {},
   "outputs": [
    {
     "name": "stderr",
     "output_type": "stream",
     "text": [
      "<string>:44: DeprecationWarning: This method is not guaranteed to stay around. Please prefer getting the attribute normally.\n",
      "<string>:44: DeprecationWarning: This method is not guaranteed to stay around. Please prefer setting the attribute normally or with Mobject.set().\n",
      "<string>:49: DeprecationWarning: This method is not guaranteed to stay around. Please prefer getting the attribute normally.\n",
      "Animation 1: _MethodAnimation(ScreenRectangle):   0% 0/60 [00:00<?, ?it/s]<string>:40: DeprecationWarning: This method is not guaranteed to stay around. Please prefer getting the attribute normally.\n",
      "<string>:40: DeprecationWarning: This method is not guaranteed to stay around. Please prefer setting the attribute normally or with Mobject.set().\n",
      "Animation 2: _MethodAnimation(ValueTracker):   0% 0/600 [00:00<?, ?it/s]           <string>:40: DeprecationWarning: This method is not guaranteed to stay around. Please prefer getting the attribute normally.\n",
      "<string>:40: DeprecationWarning: This method is not guaranteed to stay around. Please prefer setting the attribute normally or with Mobject.set().\n",
      "                                                                                  \r"
     ]
    },
    {
     "data": {
      "text/html": [
       "<video src=\"media/jupyter/Tute2@2022-09-20@18-35-32.mp4\" controls autoplay loop style=\"max-width: 60%;\"  >\n",
       "      Your browser does not support the <code>video</code> element.\n",
       "    </video>"
      ],
      "text/plain": [
       "<IPython.core.display.Video object>"
      ]
     },
     "metadata": {},
     "output_type": "display_data"
    }
   ],
   "source": [
    "%%manim -v WARNING Tute2\n",
    "# class Test(MovingCameraScene):\n",
    "#     def construct(self):\n",
    "#         ax = Axes(\n",
    "#             x_range=[0, 1, 0.1],\n",
    "#             y_range=[0, 4,  1],\n",
    "#             tips=False,\n",
    "#             axis_config={\"include_numbers\": True},\n",
    "#             y_axis_config={}#\"scaling\": LogBase(custom_labels=True)},\n",
    "#         )\n",
    "\n",
    "#         # x_min must be > 0 because log is undefined at 0.\n",
    "#         graph = ax.plot(lambda x: 1/ ( math.sqrt((1- x**2)) ), x_range=[0.001,0.9999999,0.001], use_smoothing=False)\n",
    "#         self.add(ax, graph)\n",
    "class Tute2(MovingCameraScene):  #ILLUSTRATING POLAR PLANE WITH A SINE CURVE\n",
    "    def construct(self):\n",
    "        \n",
    "        \n",
    "        e = ValueTracker(0.01) #Tracks the end value of both functions\n",
    "        func = lambda x: 1/ ( math.sqrt((1- x**2)) )\n",
    "\n",
    "\n",
    "        ax = Axes(\n",
    "            x_range=[0, 1, 0.1],\n",
    "            y_range=[0, 4,  1],\n",
    "            y_length = 4,\n",
    "            tips=False,\n",
    "            axis_config={\"include_numbers\": True},\n",
    "            y_axis_config={}#\"scaling\": LogBase(custom_labels=True)},\n",
    "        )        \n",
    "        ax.add_coordinates()\n",
    "        graph2 = always_redraw(lambda : ax.plot(func, x_range = [0.001, e.get_value(), 0.001], color = GREEN))\n",
    "        dot = always_redraw(lambda : Dot(fill_color = GREEN, fill_opacity = 0.8).scale(0.5).move_to(graph2.get_end()))\n",
    "        text = always_redraw(lambda :MathTex(  \"\\Delta t_{0} = \" + str(round(func(e.get_value()),3 )) + \"\\Delta t\", font_size =  func(e.get_value())*20 ).next_to(dot))\n",
    "\n",
    "        # def scale(camera):\n",
    "        #         self.camera.frame.set_width(VGroup(ax, dot2).get_width())\n",
    "        # self.camera.frame.add_updater(scale)\n",
    "        \n",
    "        def follow_camera(camera):\n",
    "            self.camera.frame.set_height(graph2.get_height()*2+6)\n",
    "            camera.move_to(dot.get_center())\n",
    "        self.camera.frame.add_updater(follow_camera)\n",
    "        \n",
    "        self.camera.frame.set_height(ax.get_height())\n",
    "\n",
    "        self.play(Create(ax), run_time = 0.5)\n",
    "\n",
    "        self.add(graph2, dot, text)\n",
    "        self.play(self.camera.frame.animate.set_height(graph2.get_height()*2+6))\n",
    "\n",
    "        self.play(e.animate.set_value(0.99999999999999), run_time = 10, rate_func = linear)\n",
    "        self.wait()"
   ]
  },
  {
   "cell_type": "code",
   "execution_count": null,
   "id": "2fac97ab-1d11-46ff-9bbf-1d3879a6e813",
   "metadata": {},
   "outputs": [],
   "source": []
  },
  {
   "cell_type": "code",
   "execution_count": null,
   "id": "26e13bf0-e970-4ea4-abb0-9e470794e3cb",
   "metadata": {},
   "outputs": [],
   "source": []
  },
  {
   "cell_type": "code",
   "execution_count": null,
   "id": "be0140f6-a585-4d63-909d-279a2ab6b3d1",
   "metadata": {},
   "outputs": [],
   "source": []
  },
  {
   "cell_type": "code",
   "execution_count": null,
   "id": "faadfc60-6ca6-4ab9-9cca-0635e100c6e1",
   "metadata": {},
   "outputs": [],
   "source": []
  },
  {
   "cell_type": "code",
   "execution_count": null,
   "id": "cea025ff-a4c5-4119-8980-60c38e73dc0c",
   "metadata": {},
   "outputs": [],
   "source": []
  },
  {
   "cell_type": "code",
   "execution_count": null,
   "id": "3dc3f60f-02eb-404f-9582-00317d06e665",
   "metadata": {},
   "outputs": [],
   "source": []
  },
  {
   "cell_type": "code",
   "execution_count": null,
   "id": "d685af91-3e2c-4f4c-ad76-83d320062d52",
   "metadata": {},
   "outputs": [],
   "source": []
  },
  {
   "cell_type": "code",
   "execution_count": null,
   "id": "8d36f0a4-e9d7-4c61-9e07-d7f7d00b8765",
   "metadata": {},
   "outputs": [],
   "source": []
  },
  {
   "cell_type": "code",
   "execution_count": null,
   "id": "630cabe6-2b98-4b07-a84c-231b612d30a4",
   "metadata": {},
   "outputs": [],
   "source": []
  }
 ],
 "metadata": {
  "kernelspec": {
   "display_name": "Python 3 (ipykernel)",
   "language": "python",
   "name": "python3"
  },
  "language_info": {
   "codemirror_mode": {
    "name": "ipython",
    "version": 3
   },
   "file_extension": ".py",
   "mimetype": "text/x-python",
   "name": "python",
   "nbconvert_exporter": "python",
   "pygments_lexer": "ipython3",
   "version": "3.8.13"
  }
 },
 "nbformat": 4,
 "nbformat_minor": 5
}
