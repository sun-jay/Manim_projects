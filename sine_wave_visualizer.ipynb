{
 "cells": [
  {
   "cell_type": "code",
   "execution_count": 2,
   "id": "6be58848-7293-417f-8cee-0c4d9ad2a08b",
   "metadata": {},
   "outputs": [
    {
     "data": {
      "text/html": [
       "<pre style=\"white-space:pre;overflow-x:auto;line-height:normal;font-family:Menlo,'DejaVu Sans Mono',consolas,'Courier New',monospace\">Manim Community <span style=\"color: #008000; text-decoration-color: #008000\">v0.16.0.post0</span>\n",
       "\n",
       "</pre>\n"
      ],
      "text/plain": [
       "Manim Community \u001b[32mv0.\u001b[0m\u001b[32m16.0\u001b[0m\u001b[32m.post0\u001b[0m\n",
       "\n"
      ]
     },
     "metadata": {},
     "output_type": "display_data"
    }
   ],
   "source": [
    "from manim import*\n",
    "from manim.utils.color import Colors\n",
    "\n"
   ]
  },
  {
   "cell_type": "code",
   "execution_count": 4,
   "id": "adddd3b4-7044-4172-9ce9-f278e320f579",
   "metadata": {
    "tags": []
   },
   "outputs": [
    {
     "data": {
      "text/html": [
       "<pre style=\"white-space:pre;overflow-x:auto;line-height:normal;font-family:Menlo,'DejaVu Sans Mono',consolas,'Courier New',monospace\"><span style=\"color: #7fbfbf; text-decoration-color: #7fbfbf\">[08/10/22 18:23:50] </span><span style=\"color: #800000; text-decoration-color: #800000\">WARNING </span> Attempted adding some Mobject as a child more than once, this is not    <a href=\"file:///usr/local/lib/python3.8/site-packages/manim/mobject/mobject.py\" target=\"_blank\"><span style=\"color: #7f7f7f; text-decoration-color: #7f7f7f\">mobject.py</span></a><span style=\"color: #7f7f7f; text-decoration-color: #7f7f7f\">:</span><a href=\"file:///usr/local/lib/python3.8/site-packages/manim/mobject/mobject.py#437\" target=\"_blank\"><span style=\"color: #7f7f7f; text-decoration-color: #7f7f7f\">437</span></a>\n",
       "<span style=\"color: #7fbfbf; text-decoration-color: #7fbfbf\">                    </span>         possible. Repetitions are ignored.                                      <span style=\"color: #7f7f7f; text-decoration-color: #7f7f7f\">              </span>\n",
       "</pre>\n"
      ],
      "text/plain": [
       "\u001b[2;36m[08/10/22 18:23:50]\u001b[0m\u001b[2;36m \u001b[0m\u001b[31mWARNING \u001b[0m Attempted adding some Mobject as a child more than once, this is not    \u001b]8;id=317336;file:///usr/local/lib/python3.8/site-packages/manim/mobject/mobject.py\u001b\\\u001b[2mmobject.py\u001b[0m\u001b]8;;\u001b\\\u001b[2m:\u001b[0m\u001b]8;id=290806;file:///usr/local/lib/python3.8/site-packages/manim/mobject/mobject.py#437\u001b\\\u001b[2m437\u001b[0m\u001b]8;;\u001b\\\n",
       "\u001b[2;36m                    \u001b[0m         possible. Repetitions are ignored.                                      \u001b[2m              \u001b[0m\n"
      ]
     },
     "metadata": {},
     "output_type": "display_data"
    },
    {
     "name": "stderr",
     "output_type": "stream",
     "text": [
      "                                                                                  \r"
     ]
    },
    {
     "data": {
      "text/html": [
       "<video src=\"media/jupyter/SineWave@2022-08-10@18-23-59.mp4\" controls autoplay loop style=\"max-width: 60%;\"  >\n",
       "      Your browser does not support the <code>video</code> element.\n",
       "    </video>"
      ],
      "text/plain": [
       "<IPython.core.display.Video object>"
      ]
     },
     "metadata": {},
     "output_type": "display_data"
    }
   ],
   "source": [
    "%%manim -v WARNING SineWave\n",
    "\n",
    "\n",
    "class SineWave(Scene):\n",
    "    def construct(self):\n",
    "        tracker = ValueTracker(0)\n",
    "        \n",
    "        #define wave functions\n",
    "        sine_function = lambda x:( np.sin(x + tracker.get_value()- np.pi)) \n",
    "        sine_function_2 = lambda x:( np.sin(  2*(x+ tracker.get_value()) -np.pi - 3*np.pi/2))  \n",
    "        sine_function_3 = lambda x:( np.sin(  3*(x+ tracker.get_value())  )) \n",
    "        sine_func_4 = lambda x:( np.sin(    (15/8)*(x + tracker.get_value())    - 3*np.pi/5)) \n",
    "        weird_sin_function =  lambda x:( np.sin(x + tracker.get_value()- np.pi) + (1/2)*np.sin( 6*np.sin(x+tracker.get_value()  ) ))\n",
    "        square_function = lambda x: -1 if (x+tracker.get_value())%(2*np.pi)<(np.pi-0.01) else 0 if (x+tracker.get_value())%(2*np.pi)<(np.pi) else 1\n",
    "        sawtoooth_fucntion = lambda x: (x+tracker.get_value())%(2*np.pi)/ (-1*np.pi) + 1\n",
    "                        \n",
    "        def ret_goup_for_func(func, c):\n",
    "            \n",
    "            color_a =  Colors.purple_a.value if c == 1 else Colors.teal_a.value if c==2 else Colors.red_a.value\n",
    "            color_b =  Colors.purple_e.value if c == 1 else Colors.teal_e.value if c==2 else Colors.red_e.value\n",
    "            \n",
    "            dot = always_redraw(lambda:  Dot(     point = (-np.pi,func(-np.pi) , 0) , radius=0.1, color = color_b))\n",
    "            arc = always_redraw(lambda:  ArcBetweenPoints(     start = (-np.pi - 1 ,func(-np.pi)+0.2 , 0), end =  (-np.pi + 1 ,func(-np.pi)+0.2 , 0) , angle =PI/4,stroke_width=10,  color = color_b)).shift(UP)\n",
    "            a = always_redraw(lambda :Dot(  (-np.pi - 1 ,func(-np.pi)+0.2, 0),  radius=0.008))\n",
    "            b = always_redraw(lambda :Dot(  (-np.pi + 1 ,func(-np.pi)+0.2, 0),  radius=0.008))\n",
    "            path_a = TracedPath(lambda :a.get_center(), dissipating_time=0.1, stroke_opacity=[0, 1], color = color_b)\n",
    "            path_b = TracedPath(lambda :b.get_center(), dissipating_time=0.1, stroke_opacity=[0, 1], color = color_b)\n",
    "            \n",
    "            graph = always_redraw(lambda: FunctionGraph(func,color=(color_a),stroke_width=10))\n",
    "            \n",
    "            figure = VGroup(graph, dot, arc, arc, a, b , path_a, path_b )\n",
    "            return figure\n",
    "        \n",
    "        #stationary dot and line\n",
    "        dot = Dot(color=BLACK)\n",
    "        self.add(dot)\n",
    "        line = Line((-np.pi,-1,0),(-np.pi,1,0))\n",
    "        self.add(line)\n",
    "        \n",
    "        #pass an array of up to 3 wave functions defined above, with the animation run time and the number of periods\n",
    "        #returns animation with the waves :)\n",
    "        def makewave(funcs, seconds, num_periods): \n",
    "            for i, func in enumerate(funcs, 1):\n",
    "                self.add(ret_goup_for_func(func, i))\n",
    "            self.play(tracker.animate(run_time=seconds ,rate_func = rate_functions.linear).set_value(2*np.pi*num_periods ))\n",
    "        \n",
    "        \n",
    "        makewave( [sine_function], 2, 2)\n",
    "\n",
    "    "
   ]
  },
  {
   "cell_type": "code",
   "execution_count": null,
   "id": "d68f71dc-7c18-4f83-8290-f8f696fcfa50",
   "metadata": {},
   "outputs": [],
   "source": []
  },
  {
   "cell_type": "code",
   "execution_count": null,
   "id": "eb60a6e1-6a00-45b8-87b1-7459d363c6fd",
   "metadata": {},
   "outputs": [],
   "source": []
  }
 ],
 "metadata": {
  "kernelspec": {
   "display_name": "Python 3 (ipykernel)",
   "language": "python",
   "name": "python3"
  },
  "language_info": {
   "codemirror_mode": {
    "name": "ipython",
    "version": 3
   },
   "file_extension": ".py",
   "mimetype": "text/x-python",
   "name": "python",
   "nbconvert_exporter": "python",
   "pygments_lexer": "ipython3",
   "version": "3.8.13"
  }
 },
 "nbformat": 4,
 "nbformat_minor": 5
}
