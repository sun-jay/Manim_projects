{
 "cells": [
  {
   "cell_type": "code",
   "execution_count": 4,
   "id": "04863672-65a4-493d-a74d-3e33bff99a76",
   "metadata": {},
   "outputs": [
    {
     "data": {
      "text/html": [
       "<pre style=\"white-space:pre;overflow-x:auto;line-height:normal;font-family:Menlo,'DejaVu Sans Mono',consolas,'Courier New',monospace\">Manim Community <span style=\"color: #008000; text-decoration-color: #008000\">v0.16.0.post0</span>\n",
       "\n",
       "</pre>\n"
      ],
      "text/plain": [
       "Manim Community \u001b[32mv0.\u001b[0m\u001b[32m16.0\u001b[0m\u001b[32m.post0\u001b[0m\n",
       "\n"
      ]
     },
     "metadata": {},
     "output_type": "display_data"
    }
   ],
   "source": [
    "from manim import*\n",
    "from manim.utils.color import Colors"
   ]
  },
  {
   "cell_type": "code",
   "execution_count": 35,
   "id": "c5308e20-1c8c-43f9-82b7-7ce2f84e47f8",
   "metadata": {},
   "outputs": [
    {
     "name": "stderr",
     "output_type": "stream",
     "text": [
      "                                                                                \r"
     ]
    },
    {
     "data": {
      "text/html": [
       "<video src=\"media/jupyter/BarCharExam@2022-08-14@19-11-48.mp4\" controls autoplay loop style=\"max-width: 60%;\"  >\n",
       "      Your browser does not support the <code>video</code> element.\n",
       "    </video>"
      ],
      "text/plain": [
       "<IPython.core.display.Video object>"
      ]
     },
     "metadata": {},
     "output_type": "display_data"
    }
   ],
   "source": [
    "%%manim -v WARNING BarCharExam\n",
    "\n",
    "import numpy as np\n",
    "import csv\n",
    "\n",
    "\n",
    "\n",
    "class BarCharExam(Scene):\n",
    "    def construct(self):\n",
    "        all_bars = []\n",
    "        years_vals = {}\n",
    "        with open('ap_data.csv', 'r') as file:\n",
    "            my_reader = csv.reader(file, delimiter=',')\n",
    "            temp = list(reversed(list(my_reader)))\n",
    "            d2_arr = np.array(temp).astype(int)\n",
    "            \n",
    "            for row in d2_arr[:-1]:\n",
    "                years_vals[row[0]] = row[1:]\n",
    "                for i in row[1:]: all_bars.append(int(i))\n",
    "                all_bars.append(0)\n",
    "                all_bars.append(0)\n",
    "\n",
    "        years = list(reversed([2022,2021,2020,2019,2018,2017,2016,2015,2014,2013,2012]))\n",
    "        bar_names_gen =[]\n",
    "        for year in years:\n",
    "            for str in [\"\",\"\"]: bar_names_gen.append(str)\n",
    "            bar_names_gen.append(year)\n",
    "            for str in [\"\",\"\",\"\",\"\"]: bar_names_gen.append(str)\n",
    "            \n",
    "        def return_percents(val_arr):\n",
    "            total = sum(val_arr)\n",
    "            percent_arr = []\n",
    "            \n",
    "            for val in val_arr:\n",
    "                percent_arr.append( val/total )\n",
    "            return percent_arr\n",
    "        #returns a chart that plots orginal data\n",
    "        def makechart1():\n",
    "            chart = BarChart(values=all_bars,bar_names=bar_names_gen,y_range=[0, 60, 10],bar_colors=[BLUE,GREEN,YELLOW, RED, PURPLE, PURPLE]*11,y_length=6,x_length=10,x_axis_config={\"font_size\": 25},)\n",
    "            return(chart)\n",
    "\n",
    "        #code to make year->percents dictionary\n",
    "        year_percents = {}\n",
    "        for year in years_vals:\n",
    "             year_percents[year] = return_percents(years_vals[year])\n",
    "        #code to generate list of all the bars in order (with the 0 height bars for space)\n",
    "        all_bars2 = []\n",
    "        for year in year_percents:\n",
    "            for percent in year_percents[year]: all_bars2.append(percent)\n",
    "            all_bars2.append(0)\n",
    "            all_bars2.append(0)\n",
    "        \n",
    "        #returns a chart that plots percentage distibutions and labels each year with the percent of 4's and 5's\n",
    "        def makechart2():\n",
    "            chart = BarChart(values=all_bars2,bar_names=bar_names_gen,y_range=[0, 1, 0.1],bar_colors=[BLUE,GREEN,YELLOW, RED, PURPLE, PURPLE]*11,y_length=6,x_length=10,x_axis_config={\"font_size\": 25},)\n",
    "            bar_labels = VGroup()\n",
    "            for i, year in enumerate(year_percents):\n",
    "                percent = int(round((year_percents[year][4] + year_percents[year][3])*100)).__str__()\n",
    "                text_str = ( percent +\"\\%\" )             \n",
    "                bar_lbl = Tex( text_str  )\n",
    "                bar_lbl.font_size = 30\n",
    "                if i == 2015-2012:\n",
    "                    bar_lbl.next_to(chart.bars[i*7+3], UP*5.5) \n",
    "                elif i == 2019-2012:\n",
    "                    bar_lbl.next_to(chart.bars[i*7+3], UP*3.5) \n",
    "                else:\n",
    "                    bar_lbl.next_to(chart.bars[i*7+3], UP)\n",
    "                    \n",
    "                bar_labels.add(bar_lbl)\n",
    "            return [chart,bar_labels]\n",
    "        \n",
    "        #returns a chart that compares 2022 data with national ap 2022 data and Text labels for the two score distibutions\n",
    "        def makechart3():\n",
    "            vals = year_percents[2022]\n",
    "            vals = vals + [0,0,0,0, 16.2/100, 19.9/100, 21.8/100, 17.2/100, 24.9/100]\n",
    "            chart = BarChart(\n",
    "                values=vals,\n",
    "                bar_names=[\"\",\"\",\"Niazi's Class\",\"\",\"\",\"\",\"\",\"\",\"\",\"\",\"\",\"All AP Students\",\"\",\"\" ],\n",
    "                y_range=[0, 1, 0.1],\n",
    "                bar_colors=[BLUE,GREEN,YELLOW,ORANGE ,RED, WHITE,WHITE,WHITE,WHITE, BLUE,GREEN,YELLOW,ORANGE, RED],\n",
    "                y_length=6,\n",
    "                x_length=10,\n",
    "                x_axis_config={\"font_size\": 25},\n",
    "            )\n",
    "            \n",
    "            l1 = Text( \"68% of Niazi's Students \\n Scored a 4 or 5 in 2022\" , font_size = 25)\n",
    "            l1.next_to(chart.bars[2], UP*5)\n",
    "            l2 = Text( \"39% of All AP Students \\n Scored a 4 or 5 in 2022\" , font_size = 25)\n",
    "            l2.next_to(chart.bars[11], UP*5)\n",
    "\n",
    "            return [chart, l1,l2]\n",
    "        \n",
    "        def ret_legend():\n",
    "            legend = VGroup()\n",
    "            legend.add(Text(u\"\\u2588\" + \"  \" + \"1\", color =BLUE,font_size = 20, fill_opacity = 0.7 ).shift(RIGHT*5.7, UP*2.5))\n",
    "            for i,c in enumerate([GREEN,YELLOW,ORANGE ,RED]):\n",
    "                num =(i +2).__str__()\n",
    "                legend.add(Text(u\"\\u2588\" + \"  \"+ num , color =c, font_size = 20, fill_opacity = 0.7).next_to(legend[i], DOWN))\n",
    "            return legend\n",
    "            \n",
    "        title = Text(\"Distribution of AP Test scores from 2012-2022\", font_size=30).shift(UP*3)\n",
    "        y_label = Text(\"Number of Students\", font_size=30).move_to(LEFT*6.3).rotate(PI/2)\n",
    "        \n",
    "        title2 = Text(\"Percentage Distribution of AP Test scores and percent of kids who scored 4 or 5\", font_size=30).shift(UP*3.5)\n",
    "        y_label2 = Text(\"Percentage of Students\", font_size=30).move_to(LEFT*6.3).rotate(PI/2)\n",
    "        title3 = Text(\"Percentage Distribution of Scores in Nizai's Class vs all AP test takers in 2022 \", font_size=30).shift(UP*3.5)\n",
    "        \n",
    "        \n",
    "\n",
    "        self.play(Create(title))\n",
    "        self.play(Create(y_label))\n",
    "        legend = ret_legend()\n",
    "        a = makechart1()\n",
    "        axis1 = VGroup(a.get_axis(0), a.get_axis(1), )\n",
    "        bars1 = VGroup(a.bars)\n",
    "\n",
    "        b = makechart2()[0]\n",
    "        axis2 = VGroup(b.get_axis(0), b.get_axis(1))\n",
    "        bars2 = VGroup(b.bars)\n",
    "        labels2 = makechart2()[1]\n",
    "        \n",
    "        self.play(Create(axis1),DrawBorderThenFill(legend), run_time = 2)\n",
    "        self.play(DrawBorderThenFill(bars1), run_time = 2)\n",
    "        self.wait(5)\n",
    "        \n",
    "        self.play(Transform(bars1,bars2),run_time = 1, rate_func = rate_functions.ease_out_bounce)\n",
    "        self.play(Transform(axis1,axis2), Transform(title,title2),CounterclockwiseTransform(y_label,y_label2) )\n",
    "        self.play(Create(labels2))\n",
    "        self.wait(5)\n",
    "        c = makechart3()[0]\n",
    "        axes3 = VGroup(c.get_axis(0), c.get_axis(1))\n",
    "        bars3 = VGroup(c.bars)\n",
    "        labels3 = VGroup(makechart3()[1],makechart3()[2] )\n",
    "        self.play(Transform(labels2, labels3), Transform(bars1,bars3),run_time = 1.5)\n",
    "        self.play(Transform(axis1,axes3), Transform(title, title3))#, Transform(title,title2),CounterclockwiseTransform(y_label,y_label2) )\n",
    "        # self.play(Create(makechart3()[1], makechart3()[2]))\n",
    "        self.wait(5)\n",
    "        self.play(FadeOut(makechart3()[1],makechart3()[2],bars1, axis1, title,y_label,legend,  run_time = 2 ))\n",
    "        self.wait(2)\n",
    "        square = Text(u\"\\u2588\", font_size = 2000,color = BLACK, fill_opacity = 1)\n",
    "\n",
    "        self.play(Transform(labels2, square,  run_time = 2 ))\n"
   ]
  },
  {
   "cell_type": "code",
   "execution_count": null,
   "id": "5615c2e4-4d32-4efa-8dff-68790703e8c2",
   "metadata": {},
   "outputs": [],
   "source": []
  },
  {
   "cell_type": "code",
   "execution_count": null,
   "id": "b145355d-d29a-49f7-b0d3-81d6860e75b5",
   "metadata": {},
   "outputs": [],
   "source": []
  }
 ],
 "metadata": {
  "kernelspec": {
   "display_name": "Python 3 (ipykernel)",
   "language": "python",
   "name": "python3"
  },
  "language_info": {
   "codemirror_mode": {
    "name": "ipython",
    "version": 3
   },
   "file_extension": ".py",
   "mimetype": "text/x-python",
   "name": "python",
   "nbconvert_exporter": "python",
   "pygments_lexer": "ipython3",
   "version": "3.8.13"
  }
 },
 "nbformat": 4,
 "nbformat_minor": 5
}
