{
 "cells": [
  {
   "cell_type": "code",
   "execution_count": 1,
   "id": "a2eab79b-a0b4-4ecd-a655-346112c74421",
   "metadata": {},
   "outputs": [
    {
     "data": {
      "text/html": [
       "<pre style=\"white-space:pre;overflow-x:auto;line-height:normal;font-family:Menlo,'DejaVu Sans Mono',consolas,'Courier New',monospace\">Manim Community <span style=\"color: #008000; text-decoration-color: #008000\">v0.16.0.post0</span>\n",
       "\n",
       "</pre>\n"
      ],
      "text/plain": [
       "Manim Community \u001b[32mv0.\u001b[0m\u001b[32m16.0\u001b[0m\u001b[32m.post0\u001b[0m\n",
       "\n"
      ]
     },
     "metadata": {},
     "output_type": "display_data"
    }
   ],
   "source": [
    "from manim import*\n",
    "from manim.utils.color import Colors"
   ]
  },
  {
   "cell_type": "code",
   "execution_count": 22,
   "id": "0769ac85-e41b-4738-a0b9-8ba65bb21e4d",
   "metadata": {},
   "outputs": [
    {
     "name": "stderr",
     "output_type": "stream",
     "text": [
      "                                                                           \r"
     ]
    },
    {
     "name": "stdout",
     "output_type": "stream",
     "text": [
      "x**(0)/(math.factorial(0))+x**(1)/(math.factorial(1))\n",
      "2.0\n",
      "y= {x^{0}\\over{0!}} +{x^{1}\\over{1!}} \n",
      "x**(0)/(math.factorial(0))+x**(1)/(math.factorial(1))\n",
      "2.0\n",
      "y= {x^{0}\\over{0!}} +{x^{1}\\over{1!}} \n"
     ]
    },
    {
     "name": "stderr",
     "output_type": "stream",
     "text": [
      "                                                                                      \r"
     ]
    },
    {
     "name": "stdout",
     "output_type": "stream",
     "text": [
      "x**(0)/(math.factorial(0))+x**(1)/(math.factorial(1))+x**(2)/(math.factorial(2))\n",
      "2.5\n",
      "y= {x^{0}\\over{0!}} +{x^{1}\\over{1!}} +{x^{2}\\over{2!}} \n",
      "x**(0)/(math.factorial(0))+x**(1)/(math.factorial(1))+x**(2)/(math.factorial(2))\n",
      "2.5\n",
      "y= {x^{0}\\over{0!}} +{x^{1}\\over{1!}} +{x^{2}\\over{2!}} \n"
     ]
    },
    {
     "name": "stderr",
     "output_type": "stream",
     "text": [
      "                                                                                      \r"
     ]
    },
    {
     "name": "stdout",
     "output_type": "stream",
     "text": [
      "x**(0)/(math.factorial(0))+x**(1)/(math.factorial(1))+x**(2)/(math.factorial(2))+x**(3)/(math.factorial(3))\n",
      "2.6666666666666665\n",
      "y= {x^{0}\\over{0!}} +{x^{1}\\over{1!}} +{x^{2}\\over{2!}} +{x^{3}\\over{3!}} \n",
      "x**(0)/(math.factorial(0))+x**(1)/(math.factorial(1))+x**(2)/(math.factorial(2))+x**(3)/(math.factorial(3))\n",
      "2.6666666666666665\n",
      "y= {x^{0}\\over{0!}} +{x^{1}\\over{1!}} +{x^{2}\\over{2!}} +{x^{3}\\over{3!}} \n"
     ]
    },
    {
     "name": "stderr",
     "output_type": "stream",
     "text": [
      "                                                                                      \r"
     ]
    },
    {
     "name": "stdout",
     "output_type": "stream",
     "text": [
      "x**(0)/(math.factorial(0))+x**(1)/(math.factorial(1))+x**(2)/(math.factorial(2))+x**(3)/(math.factorial(3))+x**(4)/(math.factorial(4))\n",
      "2.708333333333333\n",
      "y= {x^{0}\\over{0!}} +{x^{1}\\over{1!}} +{x^{2}\\over{2!}} +{x^{3}\\over{3!}} +{x^{4}\\over{4!}} \n"
     ]
    },
    {
     "name": "stderr",
     "output_type": "stream",
     "text": [
      "                                                                                       \r"
     ]
    },
    {
     "name": "stdout",
     "output_type": "stream",
     "text": [
      "x**(0)/(math.factorial(0))+x**(1)/(math.factorial(1))+x**(2)/(math.factorial(2))+x**(3)/(math.factorial(3))+x**(4)/(math.factorial(4))+x**(5)/(math.factorial(5))\n",
      "2.7166666666666663\n",
      "y= {x^{0}\\over{0!}} +{x^{1}\\over{1!}} +{x^{2}\\over{2!}} +{x^{3}\\over{3!}} +{x^{4}\\over{4!}} +{x^{5}\\over{5!}} \n"
     ]
    },
    {
     "name": "stderr",
     "output_type": "stream",
     "text": [
      "                                                                                       \r"
     ]
    },
    {
     "name": "stdout",
     "output_type": "stream",
     "text": [
      "x**(0)/(math.factorial(0))+x**(1)/(math.factorial(1))+x**(2)/(math.factorial(2))+x**(3)/(math.factorial(3))+x**(4)/(math.factorial(4))+x**(5)/(math.factorial(5))+x**(6)/(math.factorial(6))\n",
      "2.7180555555555554\n",
      "y= {x^{0}\\over{0!}} +{x^{1}\\over{1!}} +{x^{2}\\over{2!}} +{x^{3}\\over{3!}} +{x^{4}\\over{4!}} +{x^{5}\\over{5!}} +{x^{6}\\over{6!}} \n"
     ]
    },
    {
     "name": "stderr",
     "output_type": "stream",
     "text": [
      "                                                                                       \r"
     ]
    },
    {
     "name": "stdout",
     "output_type": "stream",
     "text": [
      "x**(0)/(math.factorial(0))+x**(1)/(math.factorial(1))+x**(2)/(math.factorial(2))+x**(3)/(math.factorial(3))+x**(4)/(math.factorial(4))+x**(5)/(math.factorial(5))+x**(6)/(math.factorial(6))+x**(7)/(math.factorial(7))\n",
      "2.7182539682539684\n",
      "y= {x^{0}\\over{0!}} +{x^{1}\\over{1!}} +{x^{2}\\over{2!}} +{x^{3}\\over{3!}} +{x^{4}\\over{4!}} +{x^{5}\\over{5!}} +{x^{6}\\over{6!}} +{x^{7}\\over{7!}} \n"
     ]
    },
    {
     "name": "stderr",
     "output_type": "stream",
     "text": [
      "                                                                                       \r"
     ]
    },
    {
     "name": "stdout",
     "output_type": "stream",
     "text": [
      "x**(0)/(math.factorial(0))+x**(1)/(math.factorial(1))+x**(2)/(math.factorial(2))+x**(3)/(math.factorial(3))+x**(4)/(math.factorial(4))+x**(5)/(math.factorial(5))+x**(6)/(math.factorial(6))+x**(7)/(math.factorial(7))+x**(8)/(math.factorial(8))\n",
      "2.71827876984127\n",
      "y= {x^{0}\\over{0!}} +{x^{1}\\over{1!}} +{x^{2}\\over{2!}} +{x^{3}\\over{3!}} +{x^{4}\\over{4!}} +{x^{5}\\over{5!}} +{x^{6}\\over{6!}} +{x^{7}\\over{7!}} +{x^{8}\\over{8!}} \n"
     ]
    },
    {
     "name": "stderr",
     "output_type": "stream",
     "text": [
      "                                                                                       \r"
     ]
    },
    {
     "name": "stdout",
     "output_type": "stream",
     "text": [
      "x**(0)/(math.factorial(0))+x**(1)/(math.factorial(1))+x**(2)/(math.factorial(2))+x**(3)/(math.factorial(3))+x**(4)/(math.factorial(4))+x**(5)/(math.factorial(5))+x**(6)/(math.factorial(6))+x**(7)/(math.factorial(7))+x**(8)/(math.factorial(8))+x**(9)/(math.factorial(9))\n",
      "2.7182815255731922\n",
      "y= {x^{0}\\over{0!}} +{x^{1}\\over{1!}} +{x^{2}\\over{2!}} +{x^{3}\\over{3!}} +{x^{4}\\over{4!}} +{x^{5}\\over{5!}} +{x^{6}\\over{6!}} +{x^{7}\\over{7!}} +{x^{8}\\over{8!}} +{x^{9}\\over{9!}} \n"
     ]
    },
    {
     "name": "stderr",
     "output_type": "stream",
     "text": [
      "                                                                                       \r"
     ]
    },
    {
     "name": "stdout",
     "output_type": "stream",
     "text": [
      "x**(0)/(math.factorial(0))+x**(1)/(math.factorial(1))+x**(2)/(math.factorial(2))+x**(3)/(math.factorial(3))+x**(4)/(math.factorial(4))+x**(5)/(math.factorial(5))+x**(6)/(math.factorial(6))+x**(7)/(math.factorial(7))+x**(8)/(math.factorial(8))+x**(9)/(math.factorial(9))+x**(10)/(math.factorial(10))\n",
      "2.7182818011463845\n",
      "y= {x^{0}\\over{0!}} +{x^{1}\\over{1!}} +{x^{2}\\over{2!}} +{x^{3}\\over{3!}} +{x^{4}\\over{4!}} +{x^{5}\\over{5!}} +{x^{6}\\over{6!}} +{x^{7}\\over{7!}} +{x^{8}\\over{8!}} +{x^{9}\\over{9!}} +{x^{10}\\over{10!}} \n"
     ]
    },
    {
     "name": "stderr",
     "output_type": "stream",
     "text": [
      "                                                                                       \r"
     ]
    },
    {
     "name": "stdout",
     "output_type": "stream",
     "text": [
      "x**(0)/(math.factorial(0))+x**(1)/(math.factorial(1))+x**(2)/(math.factorial(2))+x**(3)/(math.factorial(3))+x**(4)/(math.factorial(4))+x**(5)/(math.factorial(5))+x**(6)/(math.factorial(6))+x**(7)/(math.factorial(7))+x**(8)/(math.factorial(8))+x**(9)/(math.factorial(9))+x**(10)/(math.factorial(10))+x**(11)/(math.factorial(11))\n",
      "2.718281826198493\n",
      "y= {x^{0}\\over{0!}} +{x^{1}\\over{1!}} +{x^{2}\\over{2!}} +{x^{3}\\over{3!}} +{x^{4}\\over{4!}} +{x^{5}\\over{5!}} +{x^{6}\\over{6!}} +{x^{7}\\over{7!}} +{x^{8}\\over{8!}} +{x^{9}\\over{9!}} +{x^{10}\\over{10!}} +{x^{11}\\over{11!}} \n"
     ]
    },
    {
     "name": "stderr",
     "output_type": "stream",
     "text": [
      "                                                                                       \r"
     ]
    },
    {
     "name": "stdout",
     "output_type": "stream",
     "text": [
      "x**(0)/(math.factorial(0))+x**(1)/(math.factorial(1))+x**(2)/(math.factorial(2))+x**(3)/(math.factorial(3))+x**(4)/(math.factorial(4))+x**(5)/(math.factorial(5))+x**(6)/(math.factorial(6))+x**(7)/(math.factorial(7))+x**(8)/(math.factorial(8))+x**(9)/(math.factorial(9))+x**(10)/(math.factorial(10))+x**(11)/(math.factorial(11))+x**(12)/(math.factorial(12))\n",
      "2.7182818282861687\n",
      "y= {x^{0}\\over{0!}} +{x^{1}\\over{1!}} +{x^{2}\\over{2!}} +{x^{3}\\over{3!}} +{x^{4}\\over{4!}} +{x^{5}\\over{5!}} +{x^{6}\\over{6!}} +{x^{7}\\over{7!}} +{x^{8}\\over{8!}} +{x^{9}\\over{9!}} +{x^{10}\\over{10!}} +{x^{11}\\over{11!}} +{x^{12}\\over{12!}} \n"
     ]
    },
    {
     "name": "stderr",
     "output_type": "stream",
     "text": [
      "                                                                                       \r"
     ]
    },
    {
     "name": "stdout",
     "output_type": "stream",
     "text": [
      "x**(0)/(math.factorial(0))+x**(1)/(math.factorial(1))+x**(2)/(math.factorial(2))+x**(3)/(math.factorial(3))+x**(4)/(math.factorial(4))+x**(5)/(math.factorial(5))+x**(6)/(math.factorial(6))+x**(7)/(math.factorial(7))+x**(8)/(math.factorial(8))+x**(9)/(math.factorial(9))+x**(10)/(math.factorial(10))+x**(11)/(math.factorial(11))+x**(12)/(math.factorial(12))+x**(13)/(math.factorial(13))\n",
      "2.7182818284467594\n",
      "y= {x^{0}\\over{0!}} +{x^{1}\\over{1!}} +{x^{2}\\over{2!}} +{x^{3}\\over{3!}} +{x^{4}\\over{4!}} +{x^{5}\\over{5!}} +{x^{6}\\over{6!}} +{x^{7}\\over{7!}} +{x^{8}\\over{8!}} +{x^{9}\\over{9!}} +{x^{10}\\over{10!}} +{x^{11}\\over{11!}} +{x^{12}\\over{12!}} +{x^{13}\\over{13!}} \n"
     ]
    },
    {
     "name": "stderr",
     "output_type": "stream",
     "text": [
      "                                                                                       \r"
     ]
    },
    {
     "name": "stdout",
     "output_type": "stream",
     "text": [
      "x**(0)/(math.factorial(0))+x**(1)/(math.factorial(1))+x**(2)/(math.factorial(2))+x**(3)/(math.factorial(3))+x**(4)/(math.factorial(4))+x**(5)/(math.factorial(5))+x**(6)/(math.factorial(6))+x**(7)/(math.factorial(7))+x**(8)/(math.factorial(8))+x**(9)/(math.factorial(9))+x**(10)/(math.factorial(10))+x**(11)/(math.factorial(11))+x**(12)/(math.factorial(12))+x**(13)/(math.factorial(13))+x**(14)/(math.factorial(14))\n",
      "2.71828182845823\n",
      "y= {x^{0}\\over{0!}} +{x^{1}\\over{1!}} +{x^{2}\\over{2!}} +{x^{3}\\over{3!}} +{x^{4}\\over{4!}} +{x^{5}\\over{5!}} +{x^{6}\\over{6!}} +{x^{7}\\over{7!}} +{x^{8}\\over{8!}} +{x^{9}\\over{9!}} +{x^{10}\\over{10!}} +{x^{11}\\over{11!}} +{x^{12}\\over{12!}} +{x^{13}\\over{13!}} +{x^{14}\\over{14!}} \n"
     ]
    },
    {
     "name": "stderr",
     "output_type": "stream",
     "text": [
      "                                                                                       \r"
     ]
    },
    {
     "name": "stdout",
     "output_type": "stream",
     "text": [
      "x**(0)/(math.factorial(0))+x**(1)/(math.factorial(1))+x**(2)/(math.factorial(2))+x**(3)/(math.factorial(3))+x**(4)/(math.factorial(4))+x**(5)/(math.factorial(5))+x**(6)/(math.factorial(6))+x**(7)/(math.factorial(7))+x**(8)/(math.factorial(8))+x**(9)/(math.factorial(9))+x**(10)/(math.factorial(10))+x**(11)/(math.factorial(11))+x**(12)/(math.factorial(12))+x**(13)/(math.factorial(13))+x**(14)/(math.factorial(14))+x**(15)/(math.factorial(15))\n",
      "2.718281828458995\n",
      "y= {x^{0}\\over{0!}} +{x^{1}\\over{1!}} +{x^{2}\\over{2!}} +{x^{3}\\over{3!}} +{x^{4}\\over{4!}} +{x^{5}\\over{5!}} +{x^{6}\\over{6!}} +{x^{7}\\over{7!}} +{x^{8}\\over{8!}} +{x^{9}\\over{9!}} +{x^{10}\\over{10!}} +{x^{11}\\over{11!}} +{x^{12}\\over{12!}} +{x^{13}\\over{13!}} +{x^{14}\\over{14!}} +{x^{15}\\over{15!}} \n"
     ]
    },
    {
     "name": "stderr",
     "output_type": "stream",
     "text": [
      "                                                                                       \r"
     ]
    },
    {
     "name": "stdout",
     "output_type": "stream",
     "text": [
      "x**(0)/(math.factorial(0))+x**(1)/(math.factorial(1))+x**(2)/(math.factorial(2))+x**(3)/(math.factorial(3))+x**(4)/(math.factorial(4))+x**(5)/(math.factorial(5))+x**(6)/(math.factorial(6))+x**(7)/(math.factorial(7))+x**(8)/(math.factorial(8))+x**(9)/(math.factorial(9))+x**(10)/(math.factorial(10))+x**(11)/(math.factorial(11))+x**(12)/(math.factorial(12))+x**(13)/(math.factorial(13))+x**(14)/(math.factorial(14))+x**(15)/(math.factorial(15))+x**(16)/(math.factorial(16))\n",
      "2.718281828459043\n",
      "y= {x^{0}\\over{0!}} +{x^{1}\\over{1!}} +{x^{2}\\over{2!}} +{x^{3}\\over{3!}} +{x^{4}\\over{4!}} +{x^{5}\\over{5!}} +{x^{6}\\over{6!}} +{x^{7}\\over{7!}} +{x^{8}\\over{8!}} +{x^{9}\\over{9!}} +{x^{10}\\over{10!}} +{x^{11}\\over{11!}} +{x^{12}\\over{12!}} +{x^{13}\\over{13!}} +{x^{14}\\over{14!}} +{x^{15}\\over{15!}} +{x^{16}\\over{16!}} \n"
     ]
    },
    {
     "name": "stderr",
     "output_type": "stream",
     "text": [
      "                                                                                       \r"
     ]
    },
    {
     "name": "stdout",
     "output_type": "stream",
     "text": [
      "x**(0)/(math.factorial(0))+x**(1)/(math.factorial(1))+x**(2)/(math.factorial(2))+x**(3)/(math.factorial(3))+x**(4)/(math.factorial(4))+x**(5)/(math.factorial(5))+x**(6)/(math.factorial(6))+x**(7)/(math.factorial(7))+x**(8)/(math.factorial(8))+x**(9)/(math.factorial(9))+x**(10)/(math.factorial(10))+x**(11)/(math.factorial(11))+x**(12)/(math.factorial(12))+x**(13)/(math.factorial(13))+x**(14)/(math.factorial(14))+x**(15)/(math.factorial(15))+x**(16)/(math.factorial(16))+x**(17)/(math.factorial(17))\n",
      "2.7182818284590455\n",
      "y= {x^{0}\\over{0!}} +{x^{1}\\over{1!}} +{x^{2}\\over{2!}} +{x^{3}\\over{3!}} +{x^{4}\\over{4!}} +{x^{5}\\over{5!}} +{x^{6}\\over{6!}} +{x^{7}\\over{7!}} +{x^{8}\\over{8!}} +{x^{9}\\over{9!}} +{x^{10}\\over{10!}} +{x^{11}\\over{11!}} +{x^{12}\\over{12!}} +{x^{13}\\over{13!}} +{x^{14}\\over{14!}} +{x^{15}\\over{15!}} +{x^{16}\\over{16!}} +{x^{17}\\over{17!}} \n"
     ]
    },
    {
     "name": "stderr",
     "output_type": "stream",
     "text": [
      "                                                                                       \r"
     ]
    },
    {
     "name": "stdout",
     "output_type": "stream",
     "text": [
      "x**(0)/(math.factorial(0))+x**(1)/(math.factorial(1))+x**(2)/(math.factorial(2))+x**(3)/(math.factorial(3))+x**(4)/(math.factorial(4))+x**(5)/(math.factorial(5))+x**(6)/(math.factorial(6))+x**(7)/(math.factorial(7))+x**(8)/(math.factorial(8))+x**(9)/(math.factorial(9))+x**(10)/(math.factorial(10))+x**(11)/(math.factorial(11))+x**(12)/(math.factorial(12))+x**(13)/(math.factorial(13))+x**(14)/(math.factorial(14))+x**(15)/(math.factorial(15))+x**(16)/(math.factorial(16))+x**(17)/(math.factorial(17))+x**(18)/(math.factorial(18))\n",
      "2.7182818284590455\n",
      "y= {x^{0}\\over{0!}} +{x^{1}\\over{1!}} +{x^{2}\\over{2!}} +{x^{3}\\over{3!}} +{x^{4}\\over{4!}} +{x^{5}\\over{5!}} +{x^{6}\\over{6!}} +{x^{7}\\over{7!}} +{x^{8}\\over{8!}} +{x^{9}\\over{9!}} +{x^{10}\\over{10!}} +{x^{11}\\over{11!}} +{x^{12}\\over{12!}} +{x^{13}\\over{13!}} +{x^{14}\\over{14!}} +{x^{15}\\over{15!}} +{x^{16}\\over{16!}} +{x^{17}\\over{17!}} +{x^{18}\\over{18!}} \n"
     ]
    },
    {
     "name": "stderr",
     "output_type": "stream",
     "text": [
      "                                                                                                                                                                       \r"
     ]
    },
    {
     "data": {
      "text/html": [
       "<video src=\"media/jupyter/CreateGraph@2022-08-06@22-49-18.mp4\" controls autoplay loop style=\"max-width: 60%;\"  >\n",
       "      Your browser does not support the <code>video</code> element.\n",
       "    </video>"
      ],
      "text/plain": [
       "<IPython.core.display.Video object>"
      ]
     },
     "metadata": {},
     "output_type": "display_data"
    }
   ],
   "source": [
    "%%manim -v WARNING CreateGraph\n",
    "\n",
    "import numpy as np\n",
    "import math\n",
    "\n",
    "\n",
    "        \n",
    "\n",
    "class CreateGraph(Scene):\n",
    "    axes = Axes(x_range=[-6, 6],y_range=[-6, 6], axis_config={\"color\": BLUE},).add_coordinates()\n",
    "    def ret_eval_str(self,n):\n",
    "        string = \"\"\n",
    "        for i in range(0,n):\n",
    "            string+= \"x**(\"+str(i)+\")/(math.factorial(\"+str(i)+\"))\" + \"+\"\n",
    "        return string[:-1]\n",
    "    def ret_graph_label(self,n):\n",
    "        string = \"y= \"\n",
    "        for i in range(0,n):\n",
    "            string+= \"{x^{\"+str(i)+\"}\\over{\"+str(i)+\"!}} +\" \n",
    "        return string[:-1]\n",
    "    def graph_series(self,n):\n",
    "        graph = self.axes.plot((lambda x: eval(self.ret_eval_str(n))), color=WHITE)\n",
    "        print(self.ret_eval_str(n))\n",
    "        print( (lambda x: eval(self.ret_eval_str(n))) (1)  )\n",
    "        print( self.ret_graph_label(n))\n",
    "        graph_text = MathTex(self.ret_graph_label(n), font_size=33).shift(UP, RIGHT*4)\n",
    "        return (graph, graph_text)\n",
    "    #sin\n",
    "    def ret_eval_str_sin(self,n):\n",
    "        string = \"\"\n",
    "        for i in range(0,n+1):\n",
    "            string+= \"(-1)**(\" + str(i) + \")*x**(\"+str( (2*i)+1 )+\")/(math.factorial(\"+str( (2*i)+1 )+\"))\" + \"+\"\n",
    "        return string[:-1]\n",
    "    def ret_graph_label_sin(self,n):\n",
    "        string = \"y= \"\n",
    "        for i in range(0,n+1):\n",
    "\n",
    "            string += \"{(-1)^{\"+str(i)+\"} {x^{\"+str(2*i)+\"+1} \\over (\"+str(2*i)+\"+1)!}}+\"\n",
    "        return string[:-1]\n",
    "    def graph_series_sin(self,n):\n",
    "        graph = self.axes.plot((lambda x: eval(self.ret_eval_str_sin(n))), color=WHITE)\n",
    "        print(self.ret_eval_str_sin(n))\n",
    "        print( (lambda x: eval(self.ret_eval_str_sin(n))) (1)  )\n",
    "        graph_text = MathTex(self.ret_graph_label_sin(n), font_size=33).shift(UP*3)\n",
    "        return (graph, graph_text)\n",
    "    #cos\n",
    "    def ret_eval_str_cos(self,n):\n",
    "        string = \"\"\n",
    "        for i in range(0,n+1):\n",
    "            string+= \"(-1)**(\" + str(i) + \")*x**(\"+str( (2*i) )+\")/(math.factorial(\"+str( (2*i) )+\"))\" + \"+\"\n",
    "        return string[:-1]\n",
    "    def ret_graph_label_cos(self,n):\n",
    "        string = \"y= \"\n",
    "        for i in range(0,n+1):\n",
    "\n",
    "            string += \"{(-1)^{\"+str(i)+\"} {x^{\"+str(2*i)+\"} \\over (\"+str(2*i)+\")!}}+\"\n",
    "        return string[:-1]\n",
    "    def graph_series_cos(self,n):\n",
    "        graph = self.axes.plot((lambda x: eval(self.ret_eval_str_cos(n))), color=WHITE)\n",
    "        print(self.ret_eval_str_cos(n))\n",
    "        print( (lambda x: eval(self.ret_eval_str_cos(n))) (1)  )\n",
    "        graph_text = MathTex(self.ret_graph_label_cos(n), font_size=33).shift(UP*3)\n",
    "        return (graph, graph_text)\n",
    "    def ret_eix_str(self,n):\n",
    "        string = \"{{ {( ix )^0\\over {0!} }  }}+\"\n",
    "        for n in range(1,n):\n",
    "            string += \"{{ {( ix )^\" + str(n) + \"\\over {\" + str(n) + \"!} } }}+\"\n",
    "        return string[:-1]\n",
    "        \n",
    "    def construct(self):\n",
    "        def quote():\n",
    "            form = MathTex(\"e^\", \"{\\pi\", \" i}\", \"+1\", \"=\", \"0\")\n",
    "            \n",
    "            quote = Text(\"Gentlemen, that is surely true, it is absolutely paradoxical; we cannot understand it,\", font_size=17).shift( LEFT)\n",
    "            quote2 = Text(\" and we don't know what it means. But we have proved it, and therefore we know it must be the truth.\", font_size=17).shift(DOWN, LEFT)\n",
    "            name = Text(\"-  Benjamin Peirce\", font_size=20).shift(DOWN*2, LEFT)\n",
    "            \n",
    "            text = VGroup(quote, quote2, name) \n",
    "            text.arrange(DOWN, center=False, aligned_edge=LEFT) \n",
    "            \n",
    "            self.play(FadeIn(text[0], text[1], form.shift(UP*2)))\n",
    "            self.wait(6)\n",
    "            self.play(FadeIn(text[2]))\n",
    "            \n",
    "            self.wait(1)\n",
    "            self.play(FadeOut(text))\n",
    "            one = MathTex(\"e^\", \"{\\pi\", \" i}\", \"+1\", \"=\", \"0\")\n",
    "            one[1].set_color(YELLOW)\n",
    "            self.play(Transform(form,one))\n",
    "            self.wait(2)\n",
    "\n",
    "            \n",
    "            \n",
    "# Title\n",
    "        # title = Text(\"Understanding\")\n",
    "        # equation = MathTex(\n",
    "        #     r\" e^{ix} = cos(x) + isin(x)\"\n",
    "        # )\n",
    "        # title2 = Text(\"in the context of infinte sums\")\n",
    "        # self.play(FadeIn(equation))\n",
    "        # self.play(FadeIn(title.shift(UP)))\n",
    "        # self.play(FadeIn(title2.shift(DOWN)))\n",
    "        # self.wait(3)\n",
    "        # self.play(FadeOut(equation, title, title2))\n",
    "        def graph_ex_sum():\n",
    "            axes = Axes(x_range=[-6, 6],y_range=[-6, 6], axis_config={\"color\": BLUE},).add_coordinates()\n",
    "            graph_old = graph = axes.plot(lambda x: 1, color=WHITE)\n",
    "            graph_text_old = MathTex(self.ret_graph_label(1), font_size=33).shift(UP, RIGHT*4)\n",
    "            summationLabel = MathTex('y = e^{x} = \\sum_{n=0}^{\\infty}{x^{n} \\over n!}').shift(DOWN*2, RIGHT*3)\n",
    "\n",
    "            dot_axes = Dot(axes.coords_to_point(1,2.71828), color=GREEN)\n",
    "            lines = axes.get_lines_to_point(axes.c2p(1,2.71828))\n",
    "            dotLabel = Text(\"(1, 2.71828)\", font_size=25).next_to(dot_axes, DR)\n",
    "\n",
    "            self.play(Create(axes), FadeIn(summationLabel))\n",
    "            self.wait(1)\n",
    "            self.play( Create(graph_old), FadeIn(graph_text_old))\n",
    "            self.wait(1)\n",
    "            for n in range(2,20):\n",
    "                graph = self.graph_series(n)[0]\n",
    "                if n<5:\n",
    "                    graph_text = self.graph_series(n)[1]\n",
    "                else:\n",
    "                    graph_text = MathTex(self.ret_graph_label(5)+ \"...\", font_size=30).shift(UP, RIGHT*4)\n",
    "                self.play(ReplacementTransform(graph_old, graph,  run_time=2/n), ReplacementTransform(graph_text_old, graph_text,  run_time=2/n))\n",
    "                graph_old = graph\n",
    "                graph_text_old = graph_text\n",
    "                if n<5:\n",
    "                    self.wait(1)\n",
    "            self.play(Transform(graph_text, MathTex(\"y = e^{x}\", font_size=30).shift(UP, RIGHT*4)))\n",
    "            self.wait(1)\n",
    "            self.play(FadeOut(graph_text), (FadeIn(dot_axes, lines, dotLabel)))\n",
    "            self.wait(4)\n",
    "            self.play(FadeOut(dot_axes, lines, dotLabel, axes, graph, summationLabel ))\n",
    "            self.wait(1)\n",
    "            \n",
    "        def graph_sin_sum():\n",
    "            axes = Axes(x_range=[-3, 3],y_range=[-6, 6], axis_config={\"color\": BLUE},).add_coordinates().shift(DOWN*0.7)\n",
    "            graph_old = graph = axes.plot(lambda x: eval(self.ret_eval_str_sin(0)), color=WHITE) \n",
    "            graph_text_old = MathTex(self.ret_graph_label_sin(0), font_size=33).shift(UP*3, RIGHT*2)\n",
    "            summationLabel = MathTex('sin(x) = \\sum_{n=0}^{\\infty}{(-1)^{n} {x^{2n+1} \\over (2n+1)!}}', font_size=33).shift(DOWN*2, RIGHT*3)\n",
    "\n",
    "            #dot_axes = Dot(axes.coords_to_point(1,2.71828), color=GREEN)\n",
    "            #lines = axes.get_lines_to_point(axes.c2p(1,2.71828))\n",
    "            #dotLabel = Text(\"(1, 2.71828)\", font_size=25).next_to(dot_axes, DR)\n",
    "\n",
    "            self.play(Create(axes), FadeIn(summationLabel))\n",
    "            self.wait(1)\n",
    "            self.play( Create(graph_old), FadeIn(graph_text_old))\n",
    "            self.wait(1)\n",
    "            for n in range(1,10):\n",
    "                graph = self.graph_series_sin(n)[0].shift(DOWN*0.7)\n",
    "                if n<4:\n",
    "                    graph_text = self.graph_series_sin(n)[1]\n",
    "                else:\n",
    "                    graph_text = MathTex(self.ret_graph_label_sin(4)+ \"...\", font_size=30).shift(UP*3)\n",
    "                self.play(ReplacementTransform(graph_old, graph,  run_time=2/n), ReplacementTransform(graph_text_old, graph_text,  run_time=2/n))\n",
    "                graph_old = graph\n",
    "                graph_text_old = graph_text\n",
    "                if n<5:\n",
    "                    self.wait(1)\n",
    "            self.play(Transform(graph_text, MathTex(\"y = sin(x)\", font_size=30).shift(UP*3 )))\n",
    "            self.wait(1)\n",
    "            self.play(FadeOut(graph, axes) ,FadeOut(summationLabel), FadeOut(graph_text))\n",
    "            self.wait(1)\n",
    "        def graph_cos_sum():\n",
    "            axes = Axes(x_range=[-3, 3],y_range=[-6, 6], axis_config={\"color\": BLUE},).add_coordinates().shift(DOWN*0.7)\n",
    "            graph_old = graph = axes.plot(lambda x: eval(self.ret_eval_str_cos(0)), color=WHITE) \n",
    "            graph_text_old = MathTex(self.ret_graph_label_cos(0), font_size=33).shift(UP*3, RIGHT*2)\n",
    "            summationLabel = MathTex('cos(x) = \\sum_{n=0}^{\\infty}{(-1)^{n} {x^{2n} \\over (2n)!}}', font_size=33).shift(DOWN*2, RIGHT*3)\n",
    "\n",
    "            #dot_axes = Dot(axes.coords_to_point(1,2.71828), color=GREEN)\n",
    "            #lines = axes.get_lines_to_point(axes.c2p(1,2.71828))\n",
    "            #dotLabel = Text(\"(1, 2.71828)\", font_size=25).next_to(dot_axes, DR)\n",
    "\n",
    "            self.play(Create(axes), FadeIn(summationLabel))\n",
    "            self.wait(1)\n",
    "            self.play( Create(graph_old), FadeIn(graph_text_old))\n",
    "            self.wait(1)\n",
    "            for n in range(1,10):\n",
    "                graph = self.graph_series_cos(n)[0].shift(DOWN*0.7)\n",
    "                if n<4:\n",
    "                    graph_text = self.graph_series_cos(n)[1]\n",
    "                else:\n",
    "                    graph_text = MathTex(self.ret_graph_label_cos(4)+ \"...\", font_size=30).shift(UP*3)\n",
    "                self.play(ReplacementTransform(graph_old, graph,  run_time=2/n), ReplacementTransform(graph_text_old, graph_text,  run_time=2/n))\n",
    "                graph_old = graph\n",
    "                graph_text_old = graph_text\n",
    "                if n<5:\n",
    "                    self.wait(1)\n",
    "            self.play(Transform(graph_text, MathTex(\"y = cos(x)\", font_size=30).shift(UP*3 )))\n",
    "            self.wait(1)\n",
    "            self.play(FadeOut(graph, axes) ,FadeOut(summationLabel), FadeOut(graph_text))\n",
    "            self.wait(1)\n",
    "        \n",
    "        def show_i_powers():\n",
    "            \n",
    "            a= MathTex(\"i\", font_size = 90)\n",
    "            b= MathTex(\"i^0\", font_size = 90)\n",
    "            c= MathTex(\"i^{0} = 1 \", font_size = 90)\n",
    "            d= MathTex(\"i^{1} = i\", font_size = 90)\n",
    "            e= MathTex(\"i^{2} = -1\", font_size = 90)\n",
    "            f= MathTex(\"i^{3} = -i\", font_size = 90)\n",
    "            g= MathTex(\"i^{4} = 1\", font_size = 90)\n",
    "            \n",
    "            one = MathTex(\"i^x\", font_size = 90)\n",
    "            self.play(FadeIn(a))\n",
    "            self.wait(1)\n",
    "\n",
    "            self.play(ReplacementTransform(a, one))\n",
    "            self.wait(1)\n",
    "            self.play(ReplacementTransform(one, b))\n",
    "            self.wait(1)\n",
    "            self.play(Transform(b, c.shift(UP*2)))\n",
    "            self.wait(1)\n",
    "            self.play(Transform(c, d.shift(UP*1)))\n",
    "            self.wait(1)\n",
    "            self.play(Transform(d, e.shift(UP*0)))\n",
    "            self.wait(1)\n",
    "            self.play(Transform(e, f.shift(DOWN)))\n",
    "            self.wait(1)\n",
    "            self.play(Transform(f, g.shift(DOWN*2)))\n",
    "            self.wait(1)\n",
    "            self.play(FadeOut(b,c,d,e,f,g))\n",
    "        def exp_eix():\n",
    "            \n",
    "            ex_sum = MathTex( r\"e^{{x}} = \\sum_{n=0}^{\\infty}{{{x}}^{n}\\over n!}\",substrings_to_isolate=\"x\")\n",
    "            ex_sum[1].set_color(YELLOW)\n",
    "            ex_sum[4].set_color(YELLOW)\n",
    "\n",
    "            eix_sum = MathTex( r\"e^{ {{ix}} } = \\sum_{n=0}^{\\infty} {{ { ( ix )^n\\over {n!} } }} \")\n",
    "            eix_sum[1].set_color(YELLOW)\n",
    "\n",
    "            txt = MathTex(\"ix\").shift(UP*1.5)\n",
    "            print(self.ret_eix_str(2))\n",
    "            self.play(FadeIn(ex_sum))\n",
    "            self.wait(1)\n",
    "            self.play(FadeIn(txt))\n",
    "            self.wait(1)\n",
    "            self.play(ReplacementTransform(Group(txt, ex_sum), eix_sum))\n",
    "            self.wait(1)\n",
    "            self.play((eix_sum.animate.shift(UP*3)))\n",
    "            self.wait(1)\n",
    "            \n",
    "            print(self.ret_eix_str(9))\n",
    "            \n",
    "            prev = MathTex(self.ret_eix_str(0))\n",
    "            exp = MathTex(\"\")\n",
    "            self.play(FadeIn(prev))\n",
    "            for n in range(0,9):\n",
    "                new = MathTex(self.ret_eix_str(n))\n",
    "                self.play( ReplacementTransform(prev, new))\n",
    "                \n",
    "                prev = new\n",
    "                exp = new\n",
    "            self.play((new.animate.shift(UP*1.5)))\n",
    "            self.wait(1) \n",
    "            simp_exp = MathTex(\"{{ {1 }  }}+{{ { ix } }}-{{ { x^2\\over {2!} } }}-{{ {ix^3\\over {3!} } }}+{{ { x^4\\over {4!} } }}+{{ {ix^5\\over {5!} } }}-{{ {x^6\\over {6!} } }}-{{ {ix^7\\over {7!} }... }}\")\n",
    "            self.play(TransformFromCopy(exp, simp_exp))\n",
    "            self.wait(2 )\n",
    "            self.play(FadeOut(exp), simp_exp.animate.shift(UP))\n",
    "            self.wait(1)\n",
    "            cos_exp = VGroup(simp_exp[0],simp_exp[3],simp_exp[4],simp_exp[7],simp_exp[8],simp_exp[11],simp_exp[12], MathTex(\"...\").shift(UP))\n",
    "            \n",
    "            sin_exp = VGroup(simp_exp[1],simp_exp[2],simp_exp[5],simp_exp[6],simp_exp[9],simp_exp[10],simp_exp[13], simp_exp[14])\n",
    "            self.play(sin_exp.animate.set_color(RED))\n",
    "            self.wait(1)\n",
    "            \n",
    "            cos_exp_copy1 = cos_exp.copy()\n",
    "            cos_exp_copy2 = cos_exp.copy().arrange_submobjects().shift(DOWN*1.5, LEFT*3) \n",
    "            self.play(ReplacementTransform(cos_exp_copy1, cos_exp_copy2))\n",
    "            self.wait(1)\n",
    "            \n",
    "            sin_exp_copy1 = sin_exp.copy()\n",
    "            sin_exp_copy2 = sin_exp.copy().arrange_submobjects().shift(DOWN*1.5, RIGHT*3) \n",
    "            \n",
    "            self.play(ReplacementTransform(sin_exp_copy1, sin_exp_copy2))\n",
    "            sin_exp_copy1.remove()\n",
    "            cos_exp_copy1.remove()\n",
    "            sin_exp_factored = MathTex(\" {{ i( }}   { { x } } -{ {x^3\\over {3!} } }+{ {x^5\\over {5!} } } -{ {x^7\\over {7!} }... }   )    \")\n",
    "            sin_exp_f_g = VGroup( MathTex(\"+i(\"), MathTex(\"{ { x } } -{ {x^3\\over {3!} } }+{ {x^5\\over {5!} } } -{ {x^7\\over {7!} }... }\"), MathTex(\")\")).arrange_submobjects().set_color(RED).shift(DOWN*1.5, RIGHT*3)\n",
    "            self.wait(3)\n",
    "            self.play(ReplacementTransform(sin_exp_copy2, sin_exp_f_g))\n",
    "            self.wait(1)\n",
    "            sin_sum = MathTex('  \\sum_{n=0}^{\\infty}{(-1)^{n} {x^{2n+1} \\over (2n+1)!}}').set_color(RED).shift(DOWN*1.5, RIGHT*3)\n",
    "            cos_sum = MathTex('\\sum_{n=0}^{\\infty}{(-1)^{n} {x^{2n} \\over (2n)!}}').shift(DOWN*1.5, LEFT*3)\n",
    "            \n",
    "            self.play(ReplacementTransform(sin_exp_f_g[1] ,sin_sum), ReplacementTransform(cos_exp_copy2 ,cos_sum))\n",
    "            sinx = MathTex(\"sin(x)\").set_color(RED).shift(DOWN*1.5, RIGHT*3)\n",
    "            cosx = MathTex(\"cos(x)\").shift(DOWN*1.5, LEFT*3)\n",
    "            self.wait(1)\n",
    "            self.play(ReplacementTransform(sin_sum, sinx))\n",
    "            self.play(Group(sin_exp_f_g[0], sinx, sin_exp_f_g[2]).animate.arrange_submobjects().set_color(RED).shift(DOWN*1.5, RIGHT*3))\n",
    "         \n",
    "            self.play( ReplacementTransform( cos_sum, cosx))\n",
    "            self.wait(1)\n",
    "\n",
    "        # Control animations from here :)\n",
    "\n",
    "        #quote()\n",
    "        #exp_eix()\n",
    "        graph_ex_sum()\n",
    "        #graph_sin_sum()\n",
    "        #graph_cos_sum()\n",
    "        # show_i_powers()      \n",
    "        \n"
   ]
  },
  {
   "cell_type": "code",
   "execution_count": null,
   "id": "ad8708ce-06cb-481e-b97a-5cf1e4b837b0",
   "metadata": {},
   "outputs": [],
   "source": []
  }
 ],
 "metadata": {
  "kernelspec": {
   "display_name": "Python 3 (ipykernel)",
   "language": "python",
   "name": "python3"
  },
  "language_info": {
   "codemirror_mode": {
    "name": "ipython",
    "version": 3
   },
   "file_extension": ".py",
   "mimetype": "text/x-python",
   "name": "python",
   "nbconvert_exporter": "python",
   "pygments_lexer": "ipython3",
   "version": "3.8.13"
  }
 },
 "nbformat": 4,
 "nbformat_minor": 5
}
