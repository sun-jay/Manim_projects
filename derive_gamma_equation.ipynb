{
 "cells": [
  {
   "cell_type": "code",
   "execution_count": 2,
   "id": "a5d8d956-d5bf-4b0d-a3a2-e9b4698929b8",
   "metadata": {},
   "outputs": [
    {
     "data": {
      "text/html": [
       "<pre style=\"white-space:pre;overflow-x:auto;line-height:normal;font-family:Menlo,'DejaVu Sans Mono',consolas,'Courier New',monospace\">Manim Community <span style=\"color: #008000; text-decoration-color: #008000\">v0.16.0.post0</span>\n",
       "\n",
       "</pre>\n"
      ],
      "text/plain": [
       "Manim Community \u001b[32mv0.\u001b[0m\u001b[32m16.0\u001b[0m\u001b[32m.post0\u001b[0m\n",
       "\n"
      ]
     },
     "metadata": {},
     "output_type": "display_data"
    }
   ],
   "source": [
    "from manim import*\n",
    "from manim.utils.color import Colors"
   ]
  },
  {
   "cell_type": "code",
   "execution_count": 3,
   "id": "8c8ccd94-a844-43e4-bc6b-b94cffe79986",
   "metadata": {},
   "outputs": [
    {
     "name": "stderr",
     "output_type": "stream",
     "text": [
      "                                                                                                                                                                             \r"
     ]
    },
    {
     "data": {
      "text/html": [
       "<video src=\"media/jupyter/Test@2022-09-25@19-41-30.mp4\" controls autoplay loop style=\"max-width: 60%;\"  >\n",
       "      Your browser does not support the <code>video</code> element.\n",
       "    </video>"
      ],
      "text/plain": [
       "<IPython.core.display.Video object>"
      ]
     },
     "metadata": {},
     "output_type": "display_data"
    }
   ],
   "source": [
    "%%manim -v WARNING Test\n",
    "class Test(MovingCameraScene):\n",
    "    def construct(self):\n",
    "        def y_coord_given_tracker(tracker):\n",
    "            mod = tracker%2\n",
    "            new_t = mod if mod < 1 else((2-mod))\n",
    "            return new_t*4 -2\n",
    "        def both4(shift=None):\n",
    "            tracker = ValueTracker(0)\n",
    "            \n",
    "            rect = always_redraw(lambda:Rectangle(width=2.0, height=4.0).shift(shift if shift[0] else LEFT*0) )\n",
    "            \n",
    "            dot = always_redraw(lambda:  Dot([rect.get_center()[0], y_coord_given_tracker(tracker.get_value())   ,0]))\n",
    "            \n",
    "            time = always_redraw(lambda:  Text(str(round(tracker.get_value()/2,2))).set_color_by_gradient(RED,YELLOW).next_to(rect))\n",
    "            \n",
    "            path = TracedPath(lambda :dot.get_center(), dissipating_time=0.3, stroke_opacity=[1, 1])\n",
    "            \n",
    "            clock1 = always_redraw(lambda: VGroup(rect,dot, path, time))\n",
    "            self.add(clock1)\n",
    "            \n",
    "            rect1 = always_redraw(lambda:Rectangle(width=2.0, height=4.0).shift(LEFT*4).shift( RIGHT*(tracker.get_value())*4 ))\n",
    "            dot1 = always_redraw(lambda:  Dot([rect1.get_center()[0],   y_coord_given_tracker(tracker.get_value())   ,0]))\n",
    "            time1 = always_redraw(lambda:  Text(str(round(tracker.get_value()/2,2))).set_color_by_gradient(RED,YELLOW).next_to(rect1))\n",
    "            path1 = TracedPath(lambda :dot1.get_center(), dissipating_time=8, stroke_opacity=[1, 1])\n",
    "            rp1 = TracedPath(lambda :np.subtract(rect1.get_vertices()[1],[0,0.05,0]), dissipating_time=0.5, stroke_opacity=[1, 0], stroke_width = 15)\n",
    "            rp2 = TracedPath(lambda :np.subtract(rect1.get_vertices()[2],[0,-0.05,0]), dissipating_time=0.5, stroke_opacity=[1, 0], stroke_width = 15)\n",
    "            tri = always_redraw(lambda: Polygon(   rect1.get_vertices()[0] ,rect1.get_vertices()[3], [rect1.get_vertices()[0][0]+2,0,0]   ))\n",
    "            \n",
    "            clock2 = VGroup(rect1,dot1, path1 ,time1,tri, rp1, rp2)\n",
    "            self.add (clock2)\n",
    "            \n",
    "            # def follow_camera(camera):\n",
    "            #     camera.move_to(rect1.get_center())\n",
    "            # self.camera.frame.add_updater(follow_camera)\n",
    "            # self.play(self.camera.frame.animate.scale(0.65))\n",
    "            self.play(tracker.animate(run_time=2 ,rate_func = linear).set_value(1))\n",
    "            line = Line([-4,-2,0],[0,2,0], stroke_width= 3)\n",
    "            self.add(line)\n",
    "            self.wait(1)\n",
    "            # self.play(FadeOut(clock1,clock2[3]))\n",
    "        # def tri_brace():\n",
    "            right = Polygon([0,2,0],[0,-2,0], [-4,-2,0], stroke_width = 8).set_color_by_gradient(RED,YELLOW)\n",
    "            hyp0 = BraceLabel(obj = right,text = \"Hypotenuse\",font_size=37, buff=0.1,brace_direction = [-1,1,0])\n",
    "            legA0= BraceLabel(right, \"d\", RIGHT,font_size=37 , buff=0.1)\n",
    "            legB= BraceLabel(right, \"\\Delta t * V\" )\n",
    "            \n",
    "            \n",
    "            clock_d = BraceLabel(rect, \"d\", LEFT,font_size=37 , buff=0.1)\n",
    "            \n",
    "            self.play(self.camera.frame.animate.scale(1.2))\n",
    "            \n",
    "            self.wait(1)\n",
    "            self.play(DrawBorderThenFill(right))\n",
    "            self.play(DrawBorderThenFill(hyp0), run_time = 2 )\n",
    "            self.play(DrawBorderThenFill(legA0), DrawBorderThenFill(clock_d), run_time = 2 )\n",
    "            \n",
    "            legA = BraceLabel(right, \"d\", RIGHT,font_size=45 , buff=0.1)\n",
    "            q = Text(\"?\", font_size = 60).set_color(\"#fc03c6\").next_to(rect1)\n",
    "            self.play(ReplacementTransform(clock2[3], q))\n",
    "            self.wait(1)\n",
    "            self.play(ReplacementTransform(legA0, legA),FadeOut(clock1,q,clock_d), FadeOut(clock2[0],clock2[1],clock2[2],clock2[4],clock2[5],clock2[6], line))\n",
    "            self.play(self.camera.frame.animate.scale(0.7).move_to([-1,0,0]))\n",
    "            hyp = BraceLabel(obj = right,text = \"\\Delta t * C\",font_size=45, buff=0.1,brace_direction = [-1,1,0])\n",
    "            self.play(ReplacementTransform(hyp0, hyp))\n",
    "            self.play(Wiggle(legA))\n",
    "            self.play(DrawBorderThenFill(legB))\n",
    "            braces = VGroup(hyp, legA,legB)\n",
    "            # self.wait(1)\n",
    "            # for brace in braces:\n",
    "            #     self.play(Wiggle(brace))\n",
    "            #     self.wait(0.2)\n",
    "#             self.play(FadeOut(clock2[0],clock2[1],clock2[2],clock2[4],clock2[5],clock2[6]))\n",
    "\n",
    "            self.play(self.camera.frame.animate.scale(1.3).move_to([0,0,0]))\n",
    "            self.play(Group(braces, right).animate.shift(LEFT*2))\n",
    "            eq = MathTex(\"(d)^{2}\",\"+( \\Delta t * C)^{2}\",\"= (\\Delta t * V)^{2}\").arrange_submobjects().shift(UP*3, RIGHT*3)\n",
    "            # self.add(eq)\n",
    "            for i, brace in enumerate(braces):\n",
    "                self.play(ReplacementTransform(brace.copy(), eq[i]))\n",
    "                self.wait(0.2)\n",
    "            \n",
    "            eq2 = MathTex(\"(d)^{2}\",\"= (\\Delta t * V)^{2}\", \"-\",\"( \\Delta t * C)^{2}\").arrange_submobjects().shift(UP*2, RIGHT*3)\n",
    "            self.play(TransformMatchingTex(eq.copy(),eq2))\n",
    "            self.wait(1)\n",
    "            eq3 = MathTex(\"(d)^{2}\",\"=\",\" (\\Delta t)^{2}\",\" * C^{2}\", \"-\",\"( \\Delta t)^{2} \",\"* V^{2}\").arrange_submobjects().shift(UP*1, RIGHT*3)\n",
    "            self.play(TransformMatchingTex(eq2.copy(),eq3))\n",
    "            self.wait(1)\n",
    "            eq4 = MathTex(\"(d)^{2}\",\"= ( \\Delta t)^{2}\",\"(C^{2}\", \"-V^{2})\").arrange_submobjects().shift( RIGHT*3)\n",
    "            self.play(TransformMatchingTex(eq3.copy(),eq4))\n",
    "            self.wait(1)\n",
    "            eq5 = Group(MathTex(\"(d)^{2}\",\" \\over C^{2}-V^{2}\"), MathTex(\"=  \\Delta t^{2}\")).arrange_submobjects().shift(DOWN, RIGHT*3)\n",
    "            self.play(TransformMatchingTex(eq4.copy(),eq5))\n",
    "            self.wait(1)\n",
    "            eq6 = Group(MathTex(\"\\sqrt{\",\"(d)^{2}\",\" \\over C^{2}-V^{2}}\",\" =\\Delta t\")).arrange_submobjects().shift(DOWN*2.5, RIGHT*3)\n",
    "            self.play(TransformMatchingTex(eq5.copy(),eq6))\n",
    "            self.wait(1)\n",
    "            \n",
    "            eqs1 = Group(eq,eq2,eq3,eq4,eq5,eq6)\n",
    "            self.play(FadeOut(right, braces))\n",
    "            self.play(eqs1.animate.shift(LEFT*6))\n",
    "            self.wait(0.5)\n",
    "            # eq7 = MathTex(\"\\sqrt{\",\"(d)^{2}\",\"\\over {\",\"V^{2}\",\"  {(\",\"V^{2}+C^{2})}\\over {\",\"V^{2}}  }} \",\"=\\Delta t\").arrange_submobjects().shift(UP*3, RIGHT*3)\n",
    "            eq7 = MathTex(\"\\sqrt{(d)^{2}\\over {C^{2}  {(C^{2}-V^{2})}\\over {C^{2}}  }} =\\Delta t\").arrange_submobjects().shift(UP*3, RIGHT*3)\n",
    "            self.play(ReplacementTransform(eq6.copy(),eq7))\n",
    "            self.wait(1)\n",
    "            eq8 = MathTex(\"\\sqrt{ (d) ^{ 2 } \\over { C^ {2 } ( {  1- { { V^2 } \\over { C^2 } } ) } } } =\\Delta t\").arrange_submobjects().shift(UP*1, RIGHT*3)\n",
    "            self.play(ReplacementTransform(eq7.copy(),eq8))\n",
    "            self.wait(1)\n",
    "            eq9 = MathTex(\"{ d \\over { C    \\sqrt  { 1-   { ( { { V } \\over { C} } ) }^2  }    }  }\",\"\",\"=\\Delta t\").arrange_submobjects().shift(DOWN, RIGHT*3)\n",
    "            self.play(ReplacementTransform(eq8.copy(),eq9))\n",
    "            self.wait(1)\n",
    "            eq10 = MathTex(\" {d \\over C}\",\"  *{  1\\over   \\sqrt  { 1-   { ({ { V } \\over { C} }) }^2  }    }  \",\"=\\Delta t\").arrange_submobjects().shift(DOWN*3, RIGHT*3)\n",
    "            eq9c = eq9.copy()\n",
    "            self.play(ReplacementTransform(eq9c,eq10))\n",
    "            self.wait(1)\n",
    "            eq11 = MathTex(\"{\\Delta t_{0}\",\"  *{  1\\over   \\sqrt  { 1-   { ({ { C } \\over { V} }) }^2  }    }  \",\"=\\Delta t\").arrange_submobjects().shift(DOWN*3, RIGHT*3)\n",
    "            self.play(ReplacementTransform(eq10[0],eq11[0]))\n",
    "            self.wait(1)\n",
    "            eqs2 = Group(eq7, eq8,eq9)\n",
    "            self.play(ReplacementTransform(Group(eqs1, eqs2),Group(eq11[0], eq10[1], eq10[2]) ))\n",
    "            self.wait(1)\n",
    "            self.play(Group(eq11[0], eq10[1], eq10[2]).animate.move_to([0,0,0]))\n",
    "            \n",
    "        plane = mobject.graphing.coordinate_systems.NumberPlane(x_range=(- 20.111111111111111, 20.111111111111111, 1), y_range=(- 6.0, 6.0, 1)).set_color_by_gradient(BLUE,GREEN).set_opacity(0.5)\n",
    "        self.add(plane)\n",
    "        both4(LEFT*6) \n",
    "        # clock(LEFT*0)        \n",
    "        # tri_brace()"
   ]
  },
  {
   "cell_type": "code",
   "execution_count": null,
   "id": "8d36f0a4-e9d7-4c61-9e07-d7f7d00b8765",
   "metadata": {},
   "outputs": [],
   "source": []
  },
  {
   "cell_type": "code",
   "execution_count": null,
   "id": "630cabe6-2b98-4b07-a84c-231b612d30a4",
   "metadata": {},
   "outputs": [],
   "source": []
  }
 ],
 "metadata": {
  "kernelspec": {
   "display_name": "Python 3 (ipykernel)",
   "language": "python",
   "name": "python3"
  },
  "language_info": {
   "codemirror_mode": {
    "name": "ipython",
    "version": 3
   },
   "file_extension": ".py",
   "mimetype": "text/x-python",
   "name": "python",
   "nbconvert_exporter": "python",
   "pygments_lexer": "ipython3",
   "version": "3.8.13"
  }
 },
 "nbformat": 4,
 "nbformat_minor": 5
}
