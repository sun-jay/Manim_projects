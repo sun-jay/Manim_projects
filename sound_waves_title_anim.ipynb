{
 "cells": [
  {
   "cell_type": "code",
   "execution_count": null,
   "id": "43f8be93-9955-425b-955f-a2e3582bf8e2",
   "metadata": {},
   "outputs": [],
   "source": []
  },
  {
   "cell_type": "code",
   "execution_count": null,
   "id": "3424776a-a8f7-4b2e-b67e-ca532dce5bdb",
   "metadata": {},
   "outputs": [],
   "source": []
  },
  {
   "cell_type": "code",
   "execution_count": null,
   "id": "75ec6376-7c99-4f60-a90a-535a54acd975",
   "metadata": {},
   "outputs": [],
   "source": []
  },
  {
   "cell_type": "code",
   "execution_count": null,
   "id": "768978b7-7296-4d90-9f4b-c2729036a633",
   "metadata": {},
   "outputs": [],
   "source": []
  },
  {
   "cell_type": "code",
   "execution_count": null,
   "id": "e171a83d-259d-4694-8937-6aaa6155e8ac",
   "metadata": {},
   "outputs": [],
   "source": []
  },
  {
   "cell_type": "code",
   "execution_count": null,
   "id": "d098b438-d203-4e00-b02e-374fc81fb415",
   "metadata": {},
   "outputs": [],
   "source": []
  },
  {
   "cell_type": "code",
   "execution_count": null,
   "id": "2a0e90c8-f2a5-458e-acd1-8efd90fceede",
   "metadata": {},
   "outputs": [],
   "source": []
  },
  {
   "cell_type": "code",
   "execution_count": null,
   "id": "5650817c-0a75-4995-82d8-dcb4f8cff11a",
   "metadata": {},
   "outputs": [],
   "source": []
  },
  {
   "cell_type": "code",
   "execution_count": null,
   "id": "edad8d77-564a-44de-ac62-8219ed755df1",
   "metadata": {},
   "outputs": [],
   "source": []
  },
  {
   "cell_type": "code",
   "execution_count": null,
   "id": "70ef45bb-65f3-49f6-8dc8-25f71906811e",
   "metadata": {},
   "outputs": [],
   "source": []
  },
  {
   "cell_type": "code",
   "execution_count": 6,
   "id": "6be58848-7293-417f-8cee-0c4d9ad2a08b",
   "metadata": {},
   "outputs": [],
   "source": [
    "from manim import*\n",
    "from manim.utils.color import Colors\n"
   ]
  },
  {
   "cell_type": "code",
   "execution_count": 11,
   "id": "adddd3b4-7044-4172-9ce9-f278e320f579",
   "metadata": {},
   "outputs": [
    {
     "name": "stderr",
     "output_type": "stream",
     "text": [
      "                                                                                       \r"
     ]
    },
    {
     "data": {
      "text/html": [
       "<video src=\"media/jupyter/TitleMusic@2022-07-18@00-47-59.mp4\" controls autoplay loop style=\"max-width: 60%;\"  >\n",
       "      Your browser does not support the <code>video</code> element.\n",
       "    </video>"
      ],
      "text/plain": [
       "<IPython.core.display.Video object>"
      ]
     },
     "metadata": {},
     "output_type": "display_data"
    }
   ],
   "source": [
    "%%manim -v WARNING TitleMusic\n",
    "\n",
    "class TitleMusic(Scene):\n",
    "    def construct(self):\n",
    "        runT = 1.9\n",
    "        func = lambda x:( np.sin(x)) \n",
    "        weird_sin_function =  lambda x:( np.sin(x) + (1/2)*np.sin( 6*np.sin(x) ))\n",
    "\n",
    "        func3  = lambda x:2*( np.sin(x**2)) -2 \n",
    "        func4  = lambda x: -1*((1/2*x)**2)\n",
    "\n",
    "        \n",
    "        graph = FunctionGraph(func,color=(RED),stroke_width=10)\n",
    "        graph_2 = FunctionGraph(weird_sin_function,color=(YELLOW),stroke_width=10)\n",
    "        \n",
    "        graph_3 = FunctionGraph(func3,color=(LIGHT_PINK),stroke_width=10)\n",
    "        graph_4 = FunctionGraph(func4,color=(Colors.blue_d.value),stroke_width=10)\n",
    "\n",
    "        \n",
    "        title = Text(\"Sound waves and music\").set_color_by_gradient(RED,YELLOW)\n",
    "        self.play(Create(graph), run_time = runT)\n",
    "        self.play(ReplacementTransform(graph, graph_2), run_time = runT)\n",
    "        self.play(ReplacementTransform(graph_2, title.shift(UP)), run_time = runT)\n",
    "\n",
    "        title2 = Text(\"A visual explanation\", font_size=30).set_color_by_gradient(RED,YELLOW)\n",
    "        self.play(Create(graph_3), run_time = runT)\n",
    "        self.play(ReplacementTransform(graph_3, graph_4), run_time = runT)\n",
    "        self.play(ReplacementTransform(graph_4, title2),rate_func = rate_functions.ease_in_circ,  run_time = runT)\n",
    "\n",
    "        # self.play(FadeIn(title2))\n",
    "        self.wait(5)\n",
    "        # self.play(FadeOut(title, title2))"
   ]
  },
  {
   "cell_type": "code",
   "execution_count": null,
   "id": "d68f71dc-7c18-4f83-8290-f8f696fcfa50",
   "metadata": {},
   "outputs": [],
   "source": []
  },
  {
   "cell_type": "code",
   "execution_count": null,
   "id": "eb60a6e1-6a00-45b8-87b1-7459d363c6fd",
   "metadata": {},
   "outputs": [],
   "source": []
  }
 ],
 "metadata": {
  "kernelspec": {
   "display_name": "Python 3 (ipykernel)",
   "language": "python",
   "name": "python3"
  },
  "language_info": {
   "codemirror_mode": {
    "name": "ipython",
    "version": 3
   },
   "file_extension": ".py",
   "mimetype": "text/x-python",
   "name": "python",
   "nbconvert_exporter": "python",
   "pygments_lexer": "ipython3",
   "version": "3.8.12"
  }
 },
 "nbformat": 4,
 "nbformat_minor": 5
}
