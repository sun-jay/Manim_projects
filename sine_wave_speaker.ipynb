{
 "cells": [
  {
   "cell_type": "code",
   "execution_count": 1,
   "id": "6be58848-7293-417f-8cee-0c4d9ad2a08b",
   "metadata": {},
   "outputs": [
    {
     "data": {
      "text/html": [
       "<pre style=\"white-space:pre;overflow-x:auto;line-height:normal;font-family:Menlo,'DejaVu Sans Mono',consolas,'Courier New',monospace\">Manim Community <span style=\"color: #008000; text-decoration-color: #008000\">v0.15.1</span>\n",
       "\n",
       "</pre>\n"
      ],
      "text/plain": [
       "Manim Community \u001b[32mv0.\u001b[0m\u001b[32m15.1\u001b[0m\n",
       "\n"
      ]
     },
     "metadata": {},
     "output_type": "display_data"
    }
   ],
   "source": [
    "from manim import*\n",
    "from manim.utils.color import Colors\n",
    "\n"
   ]
  },
  {
   "cell_type": "code",
   "execution_count": 3,
   "id": "adddd3b4-7044-4172-9ce9-f278e320f579",
   "metadata": {
    "tags": []
   },
   "outputs": [
    {
     "name": "stderr",
     "output_type": "stream",
     "text": [
      "                                                                                \r"
     ]
    },
    {
     "data": {
      "text/html": [
       "<video src=\"media/jupyter/SineWave@2022-07-16@06-55-16.mp4\" controls autoplay loop style=\"max-width: 60%;\"  >\n",
       "      Your browser does not support the <code>video</code> element.\n",
       "    </video>"
      ],
      "text/plain": [
       "<IPython.core.display.Video object>"
      ]
     },
     "metadata": {},
     "output_type": "display_data"
    }
   ],
   "source": [
    "%%manim -v WARNING SineWave\n",
    "\n",
    "\n",
    "class SineWave(Scene):\n",
    "    def construct(self):\n",
    "        tracker = ValueTracker(0)\n",
    "\n",
    "        sine_function = lambda x:( np.sin(x + tracker.get_value()- np.pi)) \n",
    "        sine_function_2 = lambda x:( np.sin(  2*(x+ tracker.get_value()) -np.pi - 3*np.pi/2))  \n",
    "        sine_function_3 = lambda x:( np.sin(  3*(x+ tracker.get_value())  )) \n",
    "        weird_sin_function =  lambda x:( np.sin(x + tracker.get_value()- np.pi) + (1/2)*np.sin( 6*np.sin(x+tracker.get_value()  ) ))\n",
    "        square_function = lambda x: -1 if (x+tracker.get_value())%(2*np.pi)<(np.pi-0.01) else 0 if (x+tracker.get_value())%(2*np.pi)<(np.pi) else 1\n",
    "        sawtoooth_fucntion = lambda x: (x+tracker.get_value())%(2*np.pi)/ (-1*np.pi) + 1\n",
    "                        \n",
    "        def ret_goup_for_func(func, c):\n",
    "            \n",
    "            color_a =  Colors.purple_a.value if c == 1 else  Colors.teal_a.value\n",
    "            color_b =  Colors.purple_e.value if c == 1 else  Colors.teal_e.value\n",
    "            \n",
    "            dot = always_redraw(lambda:  Dot(     point = (-np.pi,func(-np.pi) , 0) , radius=0.1, color = color_b))\n",
    "            arc = always_redraw(lambda:  ArcBetweenPoints(     start = (-np.pi - 1 ,func(-np.pi)+0.2 , 0), end =  (-np.pi + 1 ,func(-np.pi)+0.2 , 0) , angle =PI/4,stroke_width=10,  color = color_b)).shift(UP)\n",
    "            a = always_redraw(lambda :Dot(  (-np.pi - 1 ,func(-np.pi)+0.2, 0),  radius=0.008))\n",
    "            b = always_redraw(lambda :Dot(  (-np.pi + 1 ,func(-np.pi)+0.2, 0),  radius=0.008))\n",
    "            path_a = TracedPath(lambda :a.get_center(), dissipating_time=0.1, stroke_opacity=[0, 1], color = color_b)\n",
    "            path_b = TracedPath(lambda :b.get_center(), dissipating_time=0.1, stroke_opacity=[0, 1], color = color_b)\n",
    "            \n",
    "            graph = always_redraw(lambda: FunctionGraph(func,color=(color_a),stroke_width=10))\n",
    "            \n",
    "            figure = VGroup(graph, dot, arc, arc, a, b , path_a, path_b )\n",
    "            return figure\n",
    "        dot = Dot(color=BLACK)\n",
    "        \n",
    "        self.add(dot)\n",
    "        \n",
    "        line = Line((-np.pi,-1,0),(-np.pi,1,0))\n",
    "        self.add(line)\n",
    "        self.add(ret_goup_for_func(sine_function, 1))\n",
    "        #self.add(ret_goup_for_func(sine_function, 2))\n",
    "        self.play(tracker.animate(run_time=1 ,rate_func = rate_functions.linear).set_value(2*np.pi*1 ))\n"
   ]
  },
  {
   "cell_type": "code",
   "execution_count": null,
   "id": "d68f71dc-7c18-4f83-8290-f8f696fcfa50",
   "metadata": {},
   "outputs": [],
   "source": []
  },
  {
   "cell_type": "code",
   "execution_count": null,
   "id": "eb60a6e1-6a00-45b8-87b1-7459d363c6fd",
   "metadata": {},
   "outputs": [],
   "source": []
  }
 ],
 "metadata": {
  "kernelspec": {
   "display_name": "Python 3 (ipykernel)",
   "language": "python",
   "name": "python3"
  },
  "language_info": {
   "codemirror_mode": {
    "name": "ipython",
    "version": 3
   },
   "file_extension": ".py",
   "mimetype": "text/x-python",
   "name": "python",
   "nbconvert_exporter": "python",
   "pygments_lexer": "ipython3",
   "version": "3.8.12"
  }
 },
 "nbformat": 4,
 "nbformat_minor": 5
}
